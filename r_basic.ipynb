{
 "cells": [
  {
   "cell_type": "markdown",
   "id": "73854db7-3538-4221-b1b7-e2b1fc211cdb",
   "metadata": {},
   "source": [
    "# R Syntax"
   ]
  },
  {
   "cell_type": "code",
   "execution_count": null,
   "id": "090aa619-8e1b-4f8b-9566-6da07f1a6f6b",
   "metadata": {
    "scrolled": true
   },
   "outputs": [],
   "source": [
    "# Einfaches oder doppeltes Anführungszeichen für Text\n",
    "\"Hello\"\n",
    "'Hallo'\n",
    "\n",
    "# Ohne Anführungszeichen für Number\n",
    "123"
   ]
  },
  {
   "cell_type": "code",
   "execution_count": null,
   "id": "4abc0b19-42ca-49c9-a8e4-484f5110486f",
   "metadata": {},
   "outputs": [],
   "source": [
    "# Einfache Berechnungen\n",
    "10/2\n",
    "3^2\n",
    "paste(\"Hello\", \"DigiKomp\")\n",
    "### F: paste() ist eine R Funktion. Was macht sie?\n",
    "### Hinweis: ?paste"
   ]
  },
  {
   "cell_type": "code",
   "execution_count": null,
   "id": "78955425-6aa7-4eb7-8a94-8175c09e38dc",
   "metadata": {},
   "outputs": [],
   "source": [
    "# ACHTUNG:\n",
    "'a' + 2\n",
    "paste('a', 2)"
   ]
  },
  {
   "cell_type": "markdown",
   "id": "a50f57eb-a186-4d2e-b8bb-1bbb722ef458",
   "metadata": {},
   "source": [
    "# R Variable\n",
    "\n",
    "Variablen sind Container zum Speichern von Datenwerten"
   ]
  },
  {
   "cell_type": "code",
   "execution_count": null,
   "id": "91c103f2-8281-4fd1-ac4e-e3f6984965d6",
   "metadata": {},
   "outputs": [],
   "source": [
    "# Um einer Variablen einen Wert zuzuweisen, benutze \"<-\"\n",
    "name <- \"DigiKomp\"\n",
    "group <- \"02_WS\""
   ]
  },
  {
   "cell_type": "code",
   "execution_count": null,
   "id": "2bf45f70-d2fa-423b-a41a-776d22f21ebd",
   "metadata": {},
   "outputs": [],
   "source": [
    "# Eine Variable ausgeben (oder drucken)\n",
    "name\n",
    "age\n",
    "\n",
    "# Oder\n",
    "print(name)\n",
    "print(age)"
   ]
  },
  {
   "cell_type": "code",
   "execution_count": null,
   "id": "26a3b74c-b536-41c4-8177-e2f0177ff385",
   "metadata": {},
   "outputs": [],
   "source": [
    "# Manchmal müssen wir \"print()\" benutzen\n",
    "# (z.B. wenn der Ausgabe-Befehl innerhalb von geschweifte\n",
    "# Klammer {} )\n",
    "\n",
    "for (i in 1:10) {\n",
    "    i # ohne print() keine Ausgabe\n",
    "}\n",
    "# Aber hier funktioniert. Welche Werte hat Variable i? Warum?\n",
    "i \n"
   ]
  },
  {
   "cell_type": "markdown",
   "id": "c4db8cff-5e0c-4cef-8eb1-ef19a96b4438",
   "metadata": {},
   "source": [
    "### Einige Regeln für Variablennamen\n",
    "\n",
    "- Muss mit einem Buchstaben beginnen\n",
    "- Wenn sie mit einem Punkt \".\" beginnen, darf darauf keine Ziffer folgen (z. B. .2var nicht erlaubt)\n",
    "- Dürfen nicht mit einem Unterstrich \"_\" oder Ziffer beginnen\n",
    "- Bestimmte vordefinierte Wörter dürfen nicht verwendet werden, z. B. TRUE, FALSE, NULL, IF, ...\n",
    "\n",
    "ACHTUNG: Variablennamen sind Groß- und Kleinschreibung beachtend, d. h. myVar ist unterschiedlich von MyVar"
   ]
  },
  {
   "cell_type": "code",
   "execution_count": null,
   "id": "9064b3cb-bc66-46e9-9801-e5621e70c827",
   "metadata": {},
   "outputs": [],
   "source": [
    "# Beispiele\n",
    "myVar <- \"DigiKomp\"\n",
    "my_var <- \"DigiKomp\"\n",
    "myvar <- \"digikomp\"\n",
    "myvar2 <- \"digikomp2\"\n",
    "paste(myVar, my_var, myvar, myvar2, sep = \", \") ### F: was ist \"sep\"?"
   ]
  },
  {
   "cell_type": "code",
   "execution_count": null,
   "id": "b51824ae-227a-4269-87e7-9124b27e0959",
   "metadata": {},
   "outputs": [],
   "source": [
    "# Ungültig Variablennamen\n",
    "2myvar <- \"start with digit\"\n",
    "_myVar <- \"start with underscore\"\n",
    "my-var <- \"dash - not allowed\"\n",
    "my var <- \"space not allowed\"\n",
    "my_v@r <- \"special character\"\n",
    "TRUE <- \"not true\""
   ]
  },
  {
   "cell_type": "markdown",
   "id": "6524dc62-0531-44da-8d84-68693852f28d",
   "metadata": {},
   "source": [
    "### Berechnung mit Variablen"
   ]
  },
  {
   "cell_type": "code",
   "execution_count": null,
   "id": "12a3407a-a66d-44c5-ba9e-c48e4287e618",
   "metadata": {},
   "outputs": [],
   "source": [
    "num1 <- 5\n",
    "num2 <- 10\n",
    "text1 <- \"digi\"\n",
    "text2 <- \"komp\""
   ]
  },
  {
   "cell_type": "code",
   "execution_count": null,
   "id": "13bb3d62-97f7-412c-99e3-8b667b819b16",
   "metadata": {},
   "outputs": [],
   "source": [
    "num1 + num2\n",
    "sum <- num1 + num2\n",
    "print(sum)"
   ]
  },
  {
   "cell_type": "code",
   "execution_count": null,
   "id": "f6c4649f-a48e-441c-91e9-42840276f6c3",
   "metadata": {},
   "outputs": [],
   "source": [
    "paste(text1, text2)\n",
    "paste(text1, text2, sep = \"\")\n",
    "paste0(text1, text2)"
   ]
  },
  {
   "cell_type": "code",
   "execution_count": null,
   "id": "f4778a25-f378-4ed9-adc2-b79062c52c7d",
   "metadata": {},
   "outputs": [],
   "source": [
    "# num1 + text1\n",
    "paste(num1, text1)"
   ]
  },
  {
   "cell_type": "markdown",
   "id": "7f6d4f98-29df-40cb-86c5-05c289dfc0f9",
   "metadata": {},
   "source": [
    "# R Datentypen\n",
    "\n",
    "Variablen können unterschiedlichen Datentypen speichern. Und verschiedene Typen können unterschiedlichen Aufgaben erfüllen.\n",
    "\n",
    "Um den Typ einer Variable zu ermitteln, benutzen wir die Funktion `class(var)`."
   ]
  },
  {
   "cell_type": "markdown",
   "id": "99d1df3c-f539-4812-8a81-52d5cce10e38",
   "metadata": {},
   "source": [
    "## Zahler\n",
    "\n",
    "3 Arten von Zahlentypen\n",
    "- numeric (numerisch z.B. 10.5, 50,...)\n",
    "- integer (ganzzahlig z.B. 10)\n",
    "- [complex](https://byjus.com/maths/complex-numbers/#:~:text=Complex%20Numbers%20in%20Maths,an%20imaginary%20number%20(Im)) (komplex z.B. 5i, 3 + 5i, ...)"
   ]
  },
  {
   "cell_type": "code",
   "execution_count": null,
   "id": "6dad3b8c-d473-4a38-bed4-81d3e6baa6b7",
   "metadata": {},
   "outputs": [],
   "source": [
    "x <- 10\n",
    "class(x)\n",
    "y <- 10L\n",
    "class(y)\n",
    "z <- 3+1i\n",
    "class(z)"
   ]
  },
  {
   "cell_type": "markdown",
   "id": "ca2ea36e-5283-4fec-92f1-9e42c06a9703",
   "metadata": {},
   "source": [
    "Um von einem Typ zum anderen zu konvertieren, benutzen wir:\n",
    "- as.numeric()\n",
    "- as.integer()\n",
    "- as.complex()"
   ]
  },
  {
   "cell_type": "code",
   "execution_count": null,
   "id": "162cb4c4-c961-4795-8fd0-0bb18be67ea7",
   "metadata": {
    "scrolled": true
   },
   "outputs": [],
   "source": [
    "x <- 10\n",
    "str(x) ### F: was macht die Funktion str()? \n",
    "x <- as.integer(x)\n",
    "str(x)"
   ]
  },
  {
   "cell_type": "markdown",
   "id": "933bd0a5-e136-4021-8259-d8ee10a6b30c",
   "metadata": {},
   "source": [
    "Einige mathematische Funktionen:\n",
    "\n",
    "- Grundrechenarten `+` (Plus), `-` (Minus), `*` (Multiplikation), `/` (Division), `^` (Exponent), `%%` (Modulus - Rest bei der Devision)\n",
    "- `max()` & `min()`\n",
    "- `sqrt()` (Quadratwurzel), `abs()` (Absolut positiver Wert), `round()` (Runden), `ceiling()` (Aufrunden), `floor()` (Abrunden)"
   ]
  },
  {
   "cell_type": "code",
   "execution_count": null,
   "id": "89ee6db9-35fd-4685-b952-2d691804d52f",
   "metadata": {},
   "outputs": [],
   "source": [
    "x <- 1.4\n",
    "x\n",
    "round(x)\n",
    "ceiling(x)"
   ]
  },
  {
   "cell_type": "markdown",
   "id": "293ec67a-c780-416d-9c29-6e07d480e359",
   "metadata": {},
   "source": [
    "## String (Zeichenketter)\n",
    "\n",
    "Strings werden verwendet, um Text zu speichern"
   ]
  },
  {
   "cell_type": "code",
   "execution_count": null,
   "id": "2f9d8ee5-3ded-4ea7-a483-2f24ecd15378",
   "metadata": {},
   "outputs": [],
   "source": [
    "t <- \"DigiKomp\"\n",
    "str(t) ### Was ist der Datentyp von einem String?"
   ]
  },
  {
   "cell_type": "code",
   "execution_count": null,
   "id": "cb1e769f-80e5-4f40-a51e-02c6287c1425",
   "metadata": {},
   "outputs": [],
   "source": [
    "# Mehrzeilige Strings\n",
    "mt <- \"Seminar\n",
    "DigiKomp\n",
    "für\n",
    "BSc. Bio\"\n",
    "mt # \\n ist ein Newline Zeichen\n",
    "cat(mt) ### F: was ist die Unterschied zwischen print() und cat() ?"
   ]
  },
  {
   "cell_type": "markdown",
   "id": "fae521cd-d099-447a-8ac0-51fd67d3597e",
   "metadata": {},
   "source": [
    "Einige String-Funktionen:"
   ]
  },
  {
   "cell_type": "code",
   "execution_count": null,
   "id": "3aba7fd9-3ce2-4cde-b317-a4421ea2f3a9",
   "metadata": {},
   "outputs": [],
   "source": [
    "t <- \"DigiKomp\"\n",
    "t0 <- \"Seminar\"\n",
    "t\n",
    "# Länge des Texts\n",
    "nchar(t)\n",
    "\n",
    "# 2 Strings kombinieren\n",
    "paste(t0, t)\n",
    "paste0(t0, t)\n",
    "\n",
    "# Nach einem Teilstring suchen\n",
    "grepl('Digi', t)\n",
    "grep('Digi', t) ### F: was ist die Unterschied zwischen grepl() und grep()?\n",
    "grepl('digi', t) ### F: wie kann man die Funktion ändern, damit sie die Groß-/Kleinschreibung betrachten kann?"
   ]
  },
  {
   "cell_type": "markdown",
   "id": "3b97fb70-7fd7-47d3-bc68-e103ed400d18",
   "metadata": {},
   "source": [
    "## Booleans (logische Wert)"
   ]
  },
  {
   "cell_type": "code",
   "execution_count": null,
   "id": "bd75a1e8-1368-4b80-a1af-d2aa4a6b693d",
   "metadata": {},
   "outputs": [],
   "source": [
    "x <- 5\n",
    "y <- 7\n",
    "# vergleiche x mit y\n",
    "x = y # ACHTUNG: Ein einzelnes = wird nicht zum Vergleich verwendet\n",
    "# vergleiche x mit 5\n",
    "x == 5 ### F: Warum ist es hier falsch? "
   ]
  },
  {
   "cell_type": "code",
   "execution_count": null,
   "id": "f9384858-6c62-4bfc-b9fd-60e60359e6a5",
   "metadata": {},
   "outputs": [],
   "source": [
    "c <- x < 5\n",
    "str(c)"
   ]
  },
  {
   "cell_type": "markdown",
   "id": "e689aac3-2d04-4e4a-a992-03f89106fb18",
   "metadata": {},
   "source": [
    "**Vergleichsoperationen in R**\n",
    "\n",
    "- Gleich: `==`\n",
    "- Ungleich: `!=`\n",
    "- Größer als: `>`\n",
    "- Kleiner als: `<`\n",
    "- Größer oder gleich: `>=`\n",
    "- Kleiner oder gleich: `<=`"
   ]
  },
  {
   "cell_type": "code",
   "execution_count": null,
   "id": "7779153a-caf3-4202-aedb-17d338a657e5",
   "metadata": {},
   "outputs": [],
   "source": [
    "# Überprüfe, ob eine Variable eine gerade oder ungerade Zahl ist\n",
    "x <- 101\n",
    "if (x %% 2 == 0) {\n",
    "    print(paste(x, \"ist eine gerade Zahl\"))\n",
    "} else {\n",
    "    print(paste(x, \"ist eine ungerade Zahl\"))\n",
    "}"
   ]
  },
  {
   "cell_type": "markdown",
   "id": "42569694-8d06-4643-868f-8e8098f602cd",
   "metadata": {},
   "source": [
    "**Logische Operatoren in R**\n",
    "\n",
    "- UND: `&` oder `&&`\n",
    "- ODER: `|` oder `||`\n",
    "- NICHT: `!`"
   ]
  },
  {
   "cell_type": "code",
   "execution_count": null,
   "id": "3bfc5099-e50a-498c-80bb-651e2e0d49c5",
   "metadata": {},
   "outputs": [],
   "source": [
    "x <- 5\n",
    "y <- 7\n",
    "x < y & y < 10"
   ]
  },
  {
   "cell_type": "code",
   "execution_count": null,
   "id": "90c24768-16d8-4f71-972e-9e4aaddba2cf",
   "metadata": {},
   "outputs": [],
   "source": [
    "x <- c(TRUE, FALSE, TRUE, FALSE) \n",
    "y <- c(FALSE, TRUE, TRUE, FALSE)\n",
    "x & y ### & führt eine elmentweise Vergleich durch und gibt einen logischen Vektor zurück\n",
    "x && y ### && akzeptiert 2 logische Ausdrücke als Eingabe, nicht jedoch 2 Vektoren"
   ]
  },
  {
   "cell_type": "markdown",
   "id": "0ed66c73-b72a-451b-8147-3ad52c026881",
   "metadata": {},
   "source": [
    "# R Datenstrukturen"
   ]
  },
  {
   "cell_type": "markdown",
   "id": "5da5a0db-0f41-4c5e-a83d-0ac4c191a9b7",
   "metadata": {},
   "source": [
    "## Vektoren\n",
    "\n",
    "Ein Vektor ist eine Liste von Elementen des gleichen Typs.\n",
    "\n",
    "Um die Liste der Elemente zu einem Vektor zu kombinieren, verwenden wir die Funktion `c()`."
   ]
  },
  {
   "cell_type": "code",
   "execution_count": null,
   "id": "70715d6b-a63f-44b6-9738-9e63bb41a626",
   "metadata": {},
   "outputs": [],
   "source": [
    "str_vec <- c(\"digi\", \"komp\", \"bio\")\n",
    "print(str_vec)"
   ]
  },
  {
   "cell_type": "code",
   "execution_count": null,
   "id": "a29bc7ce-d393-4f34-a745-50bb40176015",
   "metadata": {},
   "outputs": [],
   "source": [
    "num_vec <- 1:10\n",
    "print(num_vec)"
   ]
  },
  {
   "cell_type": "markdown",
   "id": "02e12c23-927c-4ccf-b45a-f43f194e3acd",
   "metadata": {},
   "source": [
    "Einige Funktionen für Vektoren in R"
   ]
  },
  {
   "cell_type": "code",
   "execution_count": null,
   "id": "57a5f27f-8ce3-4cc9-a857-866fb300afcb",
   "metadata": {},
   "outputs": [],
   "source": [
    "vec <- c(4, 2, 1, 3, 5)"
   ]
  },
  {
   "cell_type": "code",
   "execution_count": null,
   "id": "fce80081-fce0-4f10-909a-f349b716d159",
   "metadata": {},
   "outputs": [],
   "source": [
    "# Element hinzufügen\n",
    "vec <- c(vec, 7)\n",
    "print(vec)"
   ]
  },
  {
   "cell_type": "code",
   "execution_count": null,
   "id": "a651d81e-94d5-4db2-af3f-64f45d809db8",
   "metadata": {},
   "outputs": [],
   "source": [
    "# Element entfernen\n",
    "vec <- vec[-6]\n",
    "print(vec)"
   ]
  },
  {
   "cell_type": "code",
   "execution_count": null,
   "id": "bcf3832a-17b7-420f-b265-11290888095d",
   "metadata": {},
   "outputs": [],
   "source": [
    "# Ein Element ändern\n",
    "vec[4] <- 6\n",
    "print(vec)"
   ]
  },
  {
   "cell_type": "code",
   "execution_count": null,
   "id": "d796cab0-907f-4dbd-b1c3-2aa05791b3e5",
   "metadata": {},
   "outputs": [],
   "source": [
    "# Zugriff auf die Elemente des Vektors\n",
    "vec[1]\n",
    "vec[c(1,3)]\n",
    "vec[c(-3)]"
   ]
  },
  {
   "cell_type": "code",
   "execution_count": null,
   "id": "4483ba22-7288-49fd-95a9-20de433af828",
   "metadata": {},
   "outputs": [],
   "source": [
    "# Überprüfe, ob ein Element exsitiert:\n",
    "6 %in% vec\n",
    "# Wie ist das Ergebnis, wenn wir hier die Funktion grepl() oder grep() benutzen?\n",
    "grep(6, vec)"
   ]
  },
  {
   "cell_type": "code",
   "execution_count": null,
   "id": "40c8cc15-9e32-41a1-9e04-27e8ffba7663",
   "metadata": {},
   "outputs": [],
   "source": [
    "# Überprüfe, ob ein Element exsitiert und "
   ]
  },
  {
   "cell_type": "code",
   "execution_count": null,
   "id": "57409111-cbb8-4526-8cb0-b9326bc256ba",
   "metadata": {},
   "outputs": [],
   "source": [
    "# Gibt die Länge des Vektors an\n",
    "length(vec)"
   ]
  },
  {
   "cell_type": "code",
   "execution_count": null,
   "id": "ed3fdd71-c8d8-4652-b4fb-ad6c5cc858cd",
   "metadata": {},
   "outputs": [],
   "source": [
    "# Sortiert die Elemente\n",
    "sort(vec)"
   ]
  },
  {
   "cell_type": "code",
   "execution_count": null,
   "id": "e47ec3f2-6970-4a0a-abbd-92fdf43dace3",
   "metadata": {},
   "outputs": [],
   "source": [
    "# Kehrt die Reihenfolge der Elemente im Vektor um\n",
    "rev(vec)"
   ]
  },
  {
   "cell_type": "code",
   "execution_count": null,
   "id": "2dd2d048-8570-4e91-89bd-bca8555b426c",
   "metadata": {},
   "outputs": [],
   "source": [
    "# Für ein numerische Vektor, können wir folgende Aktionen durchführen:\n",
    "print(vec)\n",
    "max(vec)\n",
    "min(vec)\n",
    "sum(vec)\n",
    "mean(vec)\n",
    "median(vec)"
   ]
  },
  {
   "cell_type": "markdown",
   "id": "c0ce510d-f409-4f56-94f0-778577346831",
   "metadata": {},
   "source": [
    "## Liste\n",
    "\n",
    "Ein Liste in R kann verschiedene Datentypen enthalten. Eine Liste ist eine geordnete und veränderbare Sammlung von Daten. Liste ist *mehrdimensional*, während Vektor ist *eindimentional*.\n",
    "\n",
    "Um die Liste zu erstellen, verwenden wir die Funktion `list()`."
   ]
  },
  {
   "cell_type": "code",
   "execution_count": null,
   "id": "6854b055-7d97-410a-8b73-6ff130e76421",
   "metadata": {},
   "outputs": [],
   "source": [
    "str_vec <- c(\"digi\", \"komp\", \"bio\")\n",
    "num_vec <- 1:5\n",
    "str(my_vec)\n",
    "\n",
    "cat(\"\\n### HIER SIND MEINE LISTE ### \\n\")\n",
    "cat(\"\\nLIST_1:\\n\")\n",
    "print(list(\"digi\", \"komp\"))\n",
    "\n",
    "cat(\"\\nLIST_2:\\n\")\n",
    "print(list(str_vec))\n",
    "str(list(str_vec))\n",
    "\n",
    "cat(\"\\nLIST_3:\\n\")\n",
    "my_list <- list(str_vec, num_vec)\n",
    "print(my_list)\n",
    "str(my_list)"
   ]
  },
  {
   "cell_type": "markdown",
   "id": "32353702-a242-4f39-b636-cd74bbea740c",
   "metadata": {},
   "source": [
    "Einige Operationen und Funktionen für Liste in R:"
   ]
  },
  {
   "cell_type": "code",
   "execution_count": null,
   "id": "f812d532-a46a-43b2-9c8a-ec77e43dc433",
   "metadata": {},
   "outputs": [],
   "source": [
    "# Zugriff auf die Elemente\n",
    "my_list[1]\n",
    "my_list[[1]]\n",
    "my_list[[1]][2] ### F: warum my_list[1][2] geht nicht?"
   ]
  },
  {
   "cell_type": "code",
   "execution_count": null,
   "id": "ff89bd52-2d89-4d90-8d49-1bd3ce6c7b1e",
   "metadata": {},
   "outputs": [],
   "source": [
    "# Element hinzufügen\n",
    "my_list <- append(my_list, \"new_element\")\n",
    "str(my_list)"
   ]
  },
  {
   "cell_type": "code",
   "execution_count": null,
   "id": "5483788c-9f0b-4ce3-9e77-cefbff3f41f1",
   "metadata": {},
   "outputs": [],
   "source": [
    "# Element entfernen\n",
    "my_list <- my_list[-1]\n",
    "str(my_list)"
   ]
  },
  {
   "cell_type": "code",
   "execution_count": null,
   "id": "21473045-f12e-410e-939c-c9d8ae60de51",
   "metadata": {},
   "outputs": [],
   "source": [
    "# Überprüfe, ob ein Element exsitiert:\n",
    "\"new_element\" %in% my_list\n",
    "2 %in% my_list"
   ]
  },
  {
   "cell_type": "code",
   "execution_count": null,
   "id": "a768e0c1-751d-4adb-93a9-62b474c960ee",
   "metadata": {},
   "outputs": [],
   "source": [
    "# Gibt die Länge der Liste an\n",
    "length(my_list)"
   ]
  },
  {
   "cell_type": "code",
   "execution_count": null,
   "id": "f81633ca-3add-4ca1-8ae6-302d7c198334",
   "metadata": {},
   "outputs": [],
   "source": [
    "# Verbinde 2 Listen\n",
    "my_list_2 <- list(\"digi\", \"komp\")\n",
    "my_combined_list <- c(my_list, my_list_2)\n",
    "print(my_combined_list)"
   ]
  },
  {
   "cell_type": "code",
   "execution_count": null,
   "id": "db0df77a-b62b-480e-bfbf-db3bc88f5524",
   "metadata": {},
   "outputs": [],
   "source": [
    "# Eine Liste in einem Vektor umwandeln\n",
    "unlist(my_combined_list)"
   ]
  },
  {
   "cell_type": "markdown",
   "id": "0559851a-fb2e-4188-a061-920f19662635",
   "metadata": {},
   "source": [
    "## Dataframes (Datenrahmen)\n",
    "\n",
    "Dataframes sind Daten, die in Tabellenform dargestellt werden. \n",
    "Dataframes können verschiedene Datentypen enthalten, jedoch sollte **jede Spalte denselben Datentyp** haben.\n",
    "\n",
    "Um einen Dataframe zu erstellen, verwenden wir die Funktion `data.frame()`"
   ]
  },
  {
   "cell_type": "code",
   "execution_count": null,
   "id": "7a7cb0b1-d17c-4e6c-9025-db93f3b57782",
   "metadata": {},
   "outputs": [],
   "source": [
    "df <- data.frame(\n",
    "    name = c(\"John\", \"Maria\", \"Lucas\"),\n",
    "    age = c(20, 21, 21),\n",
    "    group = c(\"G1\", \"G2\", \"G1\")\n",
    ")\n",
    "df_bkp <- df\n",
    "print(df)"
   ]
  },
  {
   "cell_type": "code",
   "execution_count": null,
   "id": "89f54083-0b7d-459c-b896-9367936db4d3",
   "metadata": {},
   "outputs": [],
   "source": [
    "str(df)"
   ]
  },
  {
   "cell_type": "code",
   "execution_count": null,
   "id": "31d0a9f7-7a9e-49c4-b9cf-b6372ad8af44",
   "metadata": {},
   "outputs": [],
   "source": [
    "# um schnell eine Zusamenfassung der Daten aus dem Dataframe zu erhalten\n",
    "summary(df)"
   ]
  },
  {
   "cell_type": "markdown",
   "id": "cd919343-5591-475d-b818-2929f4eae0e7",
   "metadata": {},
   "source": [
    "Einige Operationen und Funktionen für Dataframes in R:"
   ]
  },
  {
   "cell_type": "code",
   "execution_count": null,
   "id": "633c3fc4-fd79-434b-a2b7-adafc085e827",
   "metadata": {},
   "outputs": [],
   "source": [
    "# Zugriff auf Spalten\n",
    "df[2]\n",
    "df[[\"age\"]]\n",
    "df$age"
   ]
  },
  {
   "cell_type": "code",
   "execution_count": null,
   "id": "a8be2191-a8ce-41bc-9b60-b7b3c018b016",
   "metadata": {},
   "outputs": [],
   "source": [
    "# Zugriff auf Zeilen\n",
    "df[2,]"
   ]
  },
  {
   "cell_type": "code",
   "execution_count": null,
   "id": "ae6d19ce-a3e1-46ab-b3a3-8e1397c662b7",
   "metadata": {},
   "outputs": [],
   "source": [
    "# Spalte hinzufügen\n",
    "df$score <- c(3, 1.5, 2)\n",
    "print(df)\n",
    "# oder die Funktion cbind() verwenden\n",
    "new_col_df <- cbind(df, new_col = c(\"a\",\"b\",\"c\")) ### F: ?cbind\n",
    "print(new_col_df)"
   ]
  },
  {
   "cell_type": "code",
   "execution_count": null,
   "id": "eecb8617-39bc-4d2a-99c8-387cd6aae17e",
   "metadata": {},
   "outputs": [],
   "source": [
    "# Zeile hinzufügen\n",
    "new_row_df <- rbind(df, c(\"Julia\", 22, \"G2\", 1)) ### F: ?rbind\n",
    "print(new_row_df)"
   ]
  },
  {
   "cell_type": "code",
   "execution_count": null,
   "id": "1fa90f54-fedf-42f5-ac01-0d10757ebf9d",
   "metadata": {},
   "outputs": [],
   "source": [
    "# Spalte/Zeile entfernen\n",
    "str(df)\n",
    "df[, -c(4)] # 4. Spalte entfernen\n",
    "df[-c(1),] # 1. Zeile entfernen\n",
    "subset(df, select = c(\"name\", \"age\", \"group\")) # Spalte \"score\" entfernen"
   ]
  },
  {
   "cell_type": "code",
   "execution_count": null,
   "id": "b4aba836-5268-4670-a38f-b82e0a24eb8e",
   "metadata": {},
   "outputs": [],
   "source": [
    "# Anzahl der Spalten/Zeilen\n",
    "dim(df) # Output: Anzahl der Zeilen x Spalten\n",
    "ncol(df) # Anzahl der Spalten\n",
    "nrow(df) # Anzahl der Zeilen\n",
    "length(df) # Ähnlich wie ncol(df)"
   ]
  },
  {
   "cell_type": "markdown",
   "id": "8435c17b-7ba7-4309-8b12-45595e27aaa0",
   "metadata": {},
   "source": [
    "## R Faktoren\n",
    "\n",
    "Faktoren werden verwendet, um Daten zu kategorisieren"
   ]
  },
  {
   "cell_type": "code",
   "execution_count": null,
   "id": "b4b1c099-12df-43d7-806b-a314d57b9a3e",
   "metadata": {},
   "outputs": [],
   "source": [
    "head(df) ### F: Was macht die Funktion head()?\n",
    "df[4,] <- c(\"Julia\", 22, \"G2\", 1) # Ähnlich wie rbind(df, c(\"Julia\", 22, 2, 1)). Was ist der Nachteil here?\n",
    "str(df) # Achte auf den Datentyp jeder Spalte\n",
    "df$group <- factor(df$group)\n",
    "str(df) # Achte auf den Datentyp jeder Spalte"
   ]
  },
  {
   "cell_type": "code",
   "execution_count": null,
   "id": "38b184c5-c62d-497c-9a8e-023b6bb05487",
   "metadata": {},
   "outputs": [],
   "source": [
    "# Wie viele Gruppen haben wir im Dataframe df?\n",
    "nlevels(df$group)\n",
    "# Welche sind sie?\n",
    "levels(df$group)"
   ]
  },
  {
   "cell_type": "markdown",
   "id": "db0b6d86-32e1-49cf-b1f3-e980f986513d",
   "metadata": {},
   "source": [
    "## Matrizen\n",
    "\n",
    "Matrix ist eine 2-dimensionale Datensammlung mit Spalten und Zeilen. Im Gegensatz zu Dataframes können Matrizen nur einen einzigen Datentyp enthalten.\n",
    "\n",
    "Um eine Matrix zu erstellen, verwenden wir die Funktion `matrix()` und geben wir die Anzahl der Zeilen (`nrow`) und Spalten (`ncol`) an."
   ]
  },
  {
   "cell_type": "code",
   "execution_count": null,
   "id": "85e1d4b4-0540-4989-9252-38af6ee5a91b",
   "metadata": {},
   "outputs": [],
   "source": [
    "my_matrix <- matrix(c(11,21,12,22,13,23), nrow = 2, ncol = 3)\n",
    "print(my_matrix)"
   ]
  },
  {
   "cell_type": "markdown",
   "id": "746d9d06-bb45-4ecf-8838-cf261a61a6d4",
   "metadata": {},
   "source": [
    "## Arrays\n",
    "\n",
    "Im gegensatz zu Matrizen können Arrays mehr als 2 Dimensionen haben."
   ]
  },
  {
   "cell_type": "code",
   "execution_count": null,
   "id": "76d2263a-2c5a-4c4a-a299-0a8563de6c88",
   "metadata": {},
   "outputs": [],
   "source": [
    "my_array <- array(1:24, dim = c(2,3,4)) # Ein Array mit 4 Dimensionen, jede Dimension ist eine Matrix mit 2 Zeilen, 3 Spalten\n",
    "print(my_array)"
   ]
  },
  {
   "cell_type": "code",
   "execution_count": null,
   "id": "b565d0bf-37fa-43eb-a860-07a25c45ce73",
   "metadata": {},
   "outputs": [],
   "source": [
    "# Matrix 2 ausdrucken\n",
    "print(my_array[,,2])"
   ]
  },
  {
   "cell_type": "code",
   "execution_count": null,
   "id": "24d69d7f-76ef-4abc-9da0-02eeb58918cb",
   "metadata": {},
   "outputs": [],
   "source": [
    "# Extrahiere das Element in der 1. Zeile und 3. Spalte von der 2. Matrix\n",
    "print(my_array[1,3,2])"
   ]
  },
  {
   "cell_type": "markdown",
   "id": "9b5dda9f-bebb-4774-8c57-58640b8e1603",
   "metadata": {},
   "source": [
    "# If...Else...\n",
    "<pre><code>\n",
    "if (eine Bedingung wahr ist) {\n",
    "    dann tun etwas\n",
    "} else {\n",
    "    tun etwas anderes\n",
    "}\n",
    "</code></pre>"
   ]
  },
  {
   "cell_type": "code",
   "execution_count": null,
   "id": "63d3863e-b5df-4283-a5bf-587edf8076e2",
   "metadata": {},
   "outputs": [],
   "source": [
    "a <- 'digikomp'\n",
    "if (grepl(\"digi\", a)) {\n",
    "    print(\"Gefunden!\")\n",
    "} else {\n",
    "    print(\"Nicht gefunden!\")\n",
    "}"
   ]
  },
  {
   "cell_type": "code",
   "execution_count": null,
   "id": "8d561b8b-e25b-4610-926f-c1c0b268aab7",
   "metadata": {},
   "outputs": [],
   "source": [
    "a <- 'DigiKomp'\n",
    "if (grepl(\"digi\", a)) {\n",
    "    print(\"Kleinbuchstaben\")\n",
    "} else if (grepl(\"Digi\", a)) {\n",
    "    print(\"Großbuchstaben\")\n",
    "} else {\n",
    "    print(\"Nicht gefunden!\")\n",
    "}"
   ]
  },
  {
   "cell_type": "markdown",
   "id": "85cd99fe-1c8a-422d-8994-171caf44a3eb",
   "metadata": {},
   "source": [
    "# R Schleife\n",
    "\n",
    "Schleifen können einen Codeblock ausführen, solange eine bestimmte Bedingung erfüllt ist"
   ]
  },
  {
   "cell_type": "markdown",
   "id": "8220216b-997a-4e2e-83a3-8cb5ffa850c6",
   "metadata": {},
   "source": [
    "## FOR Schleife\n",
    "\n",
    "Eine for-Schleife wird verwendet, um über eine Sequenz (Vektor/Liste) zu iterieren."
   ]
  },
  {
   "cell_type": "code",
   "execution_count": null,
   "id": "7283def8-223a-4768-8044-f87ae334f213",
   "metadata": {},
   "outputs": [],
   "source": [
    "# Für jedes Element aus dem Vektor, multipliziere es mit 3\n",
    "vec <- c(1:5)\n",
    "for (element in vec) {\n",
    "    print(element * 3) ### ACHTUNG: ohne Funktion print() wird nichts ausgegeben\n",
    "}"
   ]
  },
  {
   "cell_type": "code",
   "execution_count": null,
   "id": "a0094ed2-78c5-46bb-8990-0d9b7bbbe023",
   "metadata": {},
   "outputs": [],
   "source": [
    "# Gib nur ungerade Zahlen von einem Vektor zurück\n",
    "vec <- c(1:5)\n",
    "for (i in vec) {\n",
    "    if (i %% 2 != 0) {\n",
    "        print(i)\n",
    "    }\n",
    "}"
   ]
  },
  {
   "cell_type": "code",
   "execution_count": null,
   "id": "113bdb5c-6ac7-4184-871a-6e903c349ba9",
   "metadata": {},
   "outputs": [],
   "source": [
    "# Gib nur ungerade Zahlen von einem Vektor zurück Stoppe die Schleife, wenn die Zahl größer als 3\n",
    "vec <- c(1:5)\n",
    "for (i in vec) {\n",
    "    if (i > 3) {\n",
    "        break\n",
    "    }\n",
    "    if (i %% 2 != 0) {\n",
    "        print(i)\n",
    "    }\n",
    "}"
   ]
  },
  {
   "cell_type": "code",
   "execution_count": null,
   "id": "c2bc8b97-d07c-4416-90e4-a97d03f35f17",
   "metadata": {},
   "outputs": [],
   "source": [
    "# Gib nur ungerade Zahlen von einem Vektor zurück, außer der Zahl 3\n",
    "vec <- c(1:5)\n",
    "for (i in vec) {\n",
    "    if (i == 3) {\n",
    "        next\n",
    "    }\n",
    "    if (i %% 2 != 0) {\n",
    "        print(i)\n",
    "    }\n",
    "}"
   ]
  },
  {
   "cell_type": "markdown",
   "id": "ad27468a-4d3b-4052-a2e8-69f9166da7b7",
   "metadata": {},
   "source": [
    "## WHILE Schleife\n",
    "\n",
    "Eine while-Schleife läuft, solange ihre Bedingung noch TRUE ist."
   ]
  },
  {
   "cell_type": "code",
   "execution_count": null,
   "id": "e4033da6-c279-4589-bf22-7a7ebaa7a68c",
   "metadata": {},
   "outputs": [],
   "source": [
    "i <- 1\n",
    "while (i < 5) {\n",
    "    print(i)\n",
    "    i = i + 1 ### ACHTUNG: ohne diese Zeile, die Schleife wird für immer fortgesetzt!!!\n",
    "}"
   ]
  },
  {
   "cell_type": "markdown",
   "id": "67b710da-83a0-4ce0-902f-69a1435a3868",
   "metadata": {},
   "source": [
    "# R Funktionen\n",
    "\n",
    "Eine Funktion ist ein Code-Block, der nur ausgeführt wird, wenn er aufgerufen wird. \n",
    "Daten, auch als Parameter bezeichnet, können einer Funktion übergeben werden.\n",
    "Als Ergebnis kann eine Funktion Daten zurückgeben.\n",
    "\n",
    "Um eine Funktion zu erstellen, verwenden wir das Schlusselwort `function()`"
   ]
  },
  {
   "cell_type": "code",
   "execution_count": null,
   "id": "897ebb5b-c4c0-4d86-8eb2-d7dcda9c3857",
   "metadata": {},
   "outputs": [],
   "source": [
    "# Eine Funktion, die die Summe von 2 Zahlen berechnet\n",
    "sum_two_var <- function (num1, num2) {\n",
    "    sum_output = num1 + num2\n",
    "    return(sum_output)\n",
    "}\n",
    "# kurzere Version\n",
    "sum_two_var <- function (num1, num2) {\n",
    "    return(num1 + num2)\n",
    "}"
   ]
  },
  {
   "cell_type": "code",
   "execution_count": null,
   "id": "f0fbaa4a-1ffe-41b5-bfa0-31eb210a39b4",
   "metadata": {},
   "outputs": [],
   "source": [
    "a <- 3\n",
    "b <- 4.5\n",
    "sum_two_var(a, b)"
   ]
  },
  {
   "cell_type": "code",
   "execution_count": null,
   "id": "2ad4ef3e-460a-48de-bb47-f078a2d48113",
   "metadata": {},
   "outputs": [],
   "source": [
    "# Eine Funktion, die den Mittelwert einer Liste von Zahlen berechnet\n",
    "calc_mean <- function (my_list) {\n",
    "    # zuerst müssen wir die Summe berechnen\n",
    "    sum = 0\n",
    "    for (i in my_list) {\n",
    "        sum = sum + i\n",
    "    }\n",
    "    # dann, berechnen wir den Mittelwert\n",
    "    mean = sum / length(my_list)\n",
    "    return(mean)\n",
    "}"
   ]
  },
  {
   "cell_type": "code",
   "execution_count": null,
   "id": "9f6343c1-2fa2-4bb7-beef-a00a2bbc5a1a",
   "metadata": {},
   "outputs": [],
   "source": [
    "l <- c(1:5)\n",
    "print(l)\n",
    "calc_mean(l)"
   ]
  },
  {
   "cell_type": "markdown",
   "id": "01bfe19a-16a8-451c-9bf5-8c4c817eede5",
   "metadata": {},
   "source": [
    "# Datei importieren und exportieren\n",
    "\n",
    "*Hinweis:* [Best Pratices für die Vorbereitung von Dateien für den Import in R](http://www.sthda.com/english/wiki/best-practices-in-preparing-data-files-for-importing-into-r). Achte bitte auf den zweiten Punkt bezüglich der Namenskonvention!"
   ]
  },
  {
   "cell_type": "code",
   "execution_count": null,
   "id": "ffbae784-b890-4547-8364-78a55b80b152",
   "metadata": {},
   "outputs": [],
   "source": [
    "# Datei in eine Variable einlesen\n",
    "my_data <- read.csv(file = \"my_input_file.csv\", sep = \";\", header = TRUE, stringAsFactor = FALSE) ### F: Was bedeuten die Parameter?\n",
    "\n",
    "# Eine Variabnle in eine Datei schreiben\n",
    "write.csv(my_data, file = \"my_output_file.csv\", row.names = FALSE)"
   ]
  },
  {
   "cell_type": "markdown",
   "id": "427a2900-7540-456a-917b-56ac2f3439fb",
   "metadata": {},
   "source": [
    "# Zusammenfassung"
   ]
  },
  {
   "cell_type": "markdown",
   "id": "7536ea36-de84-4884-abee-534941bf39dc",
   "metadata": {},
   "source": [
    "Herzlichen Glückwunsch! Du hast fast alle Grundlagen von R gelernt ^_^\n",
    "\n",
    "Dieses Tutorial basiert größtenteils auf https://www.w3schools.com/r/default.asp. Wenn Du möchtest (und Zeit hast), kannst Du versuchen, ihre [Übungen](https://www.w3schools.com/r/r_exercises.asp) oder [Quiz](https://www.w3schools.com/r/r_quiz.asp) zu lösen :)"
   ]
  },
  {
   "cell_type": "code",
   "execution_count": null,
   "id": "76caab5d-cf84-48d7-8244-59e3c62a1381",
   "metadata": {},
   "outputs": [],
   "source": []
  }
 ],
 "metadata": {
  "kernelspec": {
   "display_name": "R",
   "language": "R",
   "name": "ir"
  },
  "language_info": {
   "codemirror_mode": "r",
   "file_extension": ".r",
   "mimetype": "text/x-r-source",
   "name": "R",
   "pygments_lexer": "r",
   "version": "4.3.1"
  }
 },
 "nbformat": 4,
 "nbformat_minor": 5
}
